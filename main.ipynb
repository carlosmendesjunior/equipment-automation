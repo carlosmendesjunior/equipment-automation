{
 "cells": [
  {
   "cell_type": "markdown",
   "metadata": {},
   "source": [
    "<h3>Linearity Measurements<h3>"
   ]
  },
  {
   "cell_type": "markdown",
   "metadata": {},
   "source": [
    "This code will get the linearity measurements of a circuit\n",
    "- P1dB\n",
    "- IIP2\n",
    "- IIP3\n",
    "\n",
    "Instructions:\n",
    "1. Turn on the signal generator and the oscilloscope\n",
    "2. Connect their USB cables to the PC\n",
    "3. Set the desired frequencies \n",
    "4. Set the desired amplitude range"
   ]
  },
  {
   "cell_type": "code",
   "execution_count": 1,
   "metadata": {},
   "outputs": [],
   "source": [
    "# Reloading\n",
    "%load_ext autoreload\n",
    "%autoreload 2"
   ]
  },
  {
   "cell_type": "code",
   "execution_count": 12,
   "metadata": {},
   "outputs": [
    {
     "name": "stdout",
     "output_type": "stream",
     "text": [
      "Oscilloscope ID: RIGOL TECHNOLOGIES,DS1054Z,DS1ZA232605402,00.04.05.SP1\n",
      "Signal Generator ID: Rigol Technologies,DG1022Z,DG1ZA232402828,03.01.12  \n"
     ]
    }
   ],
   "source": [
    "# Imports Section\n",
    "import re\n",
    "import sys\n",
    "import time\n",
    "import pyvisa\n",
    "import logging\n",
    "import numpy as np\n",
    "import matplotlib.pyplot as plt\n",
    "from oscilloscope import Oscilloscope\n",
    "from signal_generator import SignalGenerator\n",
    "from linearity_measurement import LinearityMeasurement\n",
    "\n",
    "# Set up logging\n",
    "logging.getLogger('pyvisa').setLevel(logging.WARNING)\n",
    "\n",
    "# Set up VISA addresses\n",
    "osc_address = 'USB0::0x1AB1::0x04CE::DS1ZA232605402::INSTR'\n",
    "sg_address = 'USB0::0x1AB1::0x0642::DG1ZA232402828::INSTR'\n",
    "\n",
    "# Create an instance of the Oscilloscope class\n",
    "osc = Oscilloscope(osc_address)\n",
    "sg = SignalGenerator(sg_address)\n",
    "\n",
    "# Initialize the linearity measurement class\n",
    "lm = LinearityMeasurement(sg, osc)\n",
    "\n",
    "# Query Identities\n",
    "print(\"Oscilloscope ID:\", osc.idn())\n",
    "print(\"Signal Generator ID:\", sg.idn())"
   ]
  },
  {
   "cell_type": "markdown",
   "metadata": {},
   "source": [
    "<h4>Main Loop for Linearity Measurements<h4>"
   ]
  },
  {
   "cell_type": "code",
   "execution_count": 18,
   "metadata": {},
   "outputs": [
    {
     "name": "stdout",
     "output_type": "stream",
     "text": [
      "0.0\n",
      "0.33\n",
      "0.67\n",
      "1.0\n"
     ]
    }
   ],
   "source": [
    "\"\"\"Variables\"\"\"\n",
    "start_voltage = 1e-3\n",
    "stop_voltage = 1\n",
    "num = 4\n",
    "freq1 = 1e3 \n",
    "freq2 = 1.01e3\n",
    "\n",
    "\"\"\"Measure IIP2 (second-order intercept point).\"\"\"\n",
    "input_voltages = np.round(np.linspace(start_voltage, stop_voltage, num),2)\n",
    "second_order_products = []\n",
    "\n",
    "# Oscilloscope Settings for a certain frequency and amplitude\n",
    "ln.set_oscilloscope(freq1, start_voltage)\n",
    "\n",
    "# Allow time for the instrument to configure\n",
    "time.sleep(1)\n",
    "\n",
    "for voltage in input_voltages:\n",
    "    # Set two-tone signal with specified power\n",
    "    sg.set_waveform(\"SIN\", frequency=freq1, amplitude=voltage, offset=0)\n",
    "    sg.enable_output()\n",
    "    \n",
    "    # Oscilloscope Settings for a certain frequency and amplitude\n",
    "    ln.set_oscilloscope(freq1, voltage)\n",
    "    print(voltage)\n",
    "    \n",
    "    # Oscilloscope Settings for frequency and amplitude\n",
    "    time.sleep(1) \n",
    "    osc.run()\n",
    "    \n",
    "    # Allow time for the instrument to configure\n",
    "    time.sleep(1)  \n",
    "    \n",
    "    # Measure the output from the oscilloscope (assuming two-tone output capture)\n",
    "    waveform_volts = osc.get_waveform_data(channel=1)\n",
    "    time.sleep(1)\n",
    "    \n",
    "    # Allow time for the instrument to configure\n",
    "    osc.stop()\n",
    "    \n",
    "sg.disable_output()"
   ]
  },
  {
   "cell_type": "code",
   "execution_count": 6,
   "metadata": {},
   "outputs": [
    {
     "ename": "NameError",
     "evalue": "name 'waveform_volts' is not defined",
     "output_type": "error",
     "traceback": [
      "\u001b[1;31m---------------------------------------------------------------------------\u001b[0m",
      "\u001b[1;31mNameError\u001b[0m                                 Traceback (most recent call last)",
      "Cell \u001b[1;32mIn[6], line 5\u001b[0m\n\u001b[0;32m      3\u001b[0m \u001b[38;5;124;03m\"\"\"Calculate second-order intermodulation product from waveform.\"\"\"\u001b[39;00m\n\u001b[0;32m      4\u001b[0m \u001b[38;5;66;03m# Perform FFT to find second-order intermodulation products at f1+f2 and f1-f2\u001b[39;00m\n\u001b[1;32m----> 5\u001b[0m fft     \u001b[38;5;241m=\u001b[39m np\u001b[38;5;241m.\u001b[39mfft\u001b[38;5;241m.\u001b[39mfft(\u001b[43mwaveform_volts\u001b[49m)\n\u001b[0;32m      6\u001b[0m freqs   \u001b[38;5;241m=\u001b[39m np\u001b[38;5;241m.\u001b[39mfft\u001b[38;5;241m.\u001b[39mfftfreq(\u001b[38;5;28mlen\u001b[39m(waveform_volts),\u001b[38;5;241m1\u001b[39m\u001b[38;5;241m/\u001b[39mfs)\n\u001b[0;32m      8\u001b[0m \u001b[38;5;66;03m# Take the absolute value to get the magnitude\u001b[39;00m\n",
      "\u001b[1;31mNameError\u001b[0m: name 'waveform_volts' is not defined"
     ]
    }
   ],
   "source": [
    "fs = osc.get_inferred_sampling_frequency()\n",
    "\n",
    "\"\"\"Calculate second-order intermodulation product from waveform.\"\"\"\n",
    "# Perform FFT to find second-order intermodulation products at f1+f2 and f1-f2\n",
    "fft     = np.fft.fft(waveform_volts)\n",
    "freqs   = np.fft.fftfreq(len(waveform_volts),1/fs)\n",
    "\n",
    "# Take the absolute value to get the magnitude\n",
    "fft_magnitude = np.abs(fft[:len(fft) // 2]) / len(fft[:len(fft) // 2])\n",
    "fft_freq  = freqs[:len(fft) // 2]\n",
    "\n",
    "# Find the power at f1+f2 (second-order sum) and f1-f2 (second-order difference)\n",
    "f_sum = freq1 + freq2\n",
    "f_diff = np.abs(freq1 - freq2)\n",
    "print(f\"Frequencies = {f_sum, f_diff} Hz\")\n",
    "\n",
    "# Find the indices of the corresponding frequencies\n",
    "idx_sum = np.argmin(np.abs(np.float64(fft_freq) - f_sum))\n",
    "idx_diff = np.argmin(np.abs(np.float64(fft_freq) - f_diff))\n",
    "print(f\"Indices = {idx_sum, idx_diff} Hz\")\n",
    "\n",
    "# Calculate the power of the second-order products\n",
    "second_order_power_sum = fft_magnitude[idx_sum] ** 2\n",
    "second_order_power_diff = fft_magnitude[idx_diff] ** 2\n",
    "\n",
    "# Return the maximum power between f1+f2 and f1-f2, converted to dBm\n",
    "second_order_power = max(second_order_power_sum, second_order_power_diff)\n",
    "\n",
    "print(second_order_power_diff,second_order_power_sum)"
   ]
  },
  {
   "cell_type": "code",
   "execution_count": 32,
   "metadata": {},
   "outputs": [
    {
     "name": "stdout",
     "output_type": "stream",
     "text": [
      "Index of the minimum value: 1\n"
     ]
    },
    {
     "name": "stderr",
     "output_type": "stream",
     "text": [
      "Sweeping Voltages: 100%|██████████| 10/10 [01:05<00:00,  6.53s/it]"
     ]
    },
    {
     "name": "stdout",
     "output_type": "stream",
     "text": [
      "IIP2 found at input power = 14.903008161369156 dBm\n"
     ]
    },
    {
     "name": "stderr",
     "output_type": "stream",
     "text": [
      "\n"
     ]
    }
   ],
   "source": [
    "array = np.array([1, -5, 20, 5, 30])\n",
    "min_index = np.argmin(array)\n",
    "print(f\"Index of the minimum value: {min_index}\")\n",
    "\n",
    "# Perform IIP2 measurement\n",
    "fs = osc.get_inferred_sampling_frequency()\n",
    "input_voltages, second_order_products = lm.measure_iip2(0.1, 2, 10, 1e3, 1.01e3, fs)\n",
    "# print(second_order_power)"
   ]
  },
  {
   "cell_type": "code",
   "execution_count": null,
   "metadata": {},
   "outputs": [],
   "source": []
  },
  {
   "cell_type": "markdown",
   "metadata": {},
   "source": [
    "<h4>Plotting<h4>"
   ]
  },
  {
   "cell_type": "code",
   "execution_count": 31,
   "metadata": {},
   "outputs": [
    {
     "data": {
      "image/png": "[encoded data removed]",
      "text/plain": [
       "<Figure size 1000x500 with 1 Axes>"
      ]
     },
     "metadata": {},
     "output_type": "display_data"
    }
   ],
   "source": [
    "# Step 5: Plot the data\n",
    "plt.figure(figsize=(10, 5))\n",
    "# plt.plot(fft_freq/1e3,fft_magnitude)\n",
    "plt.plot(input_voltages,second_order_products)\n",
    "plt.title('Channel 1 Waveform')\n",
    "plt.xlabel('Input Voltage (V)')\n",
    "plt.ylabel('Amplitude')\n",
    "plt.grid()\n",
    "plt.show()"
   ]
  },
  {
   "cell_type": "code",
   "execution_count": 4,
   "metadata": {},
   "outputs": [],
   "source": [
    "# Close the connections\n",
    "osc.close()\n",
    "sg.close()"
   ]
  }
 ],
 "metadata": {
  "kernelspec": {
   "display_name": ".venv",
   "language": "python",
   "name": "python3"
  },
  "language_info": {
   "codemirror_mode": {
    "name": "ipython",
    "version": 3
   },
   "file_extension": ".py",
   "mimetype": "text/x-python",
   "name": "python",
   "nbconvert_exporter": "python",
   "pygments_lexer": "ipython3",
   "version": "3.11.7"
  }
 },
 "nbformat": 4,
 "nbformat_minor": 2
}
